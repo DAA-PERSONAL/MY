{
  "nbformat": 4,
  "nbformat_minor": 0,
  "metadata": {
    "colab": {
      "name": "vowels",
      "provenance": [],
      "collapsed_sections": [],
      "authorship_tag": "ABX9TyMbMAc+DsI99OMv68UyGScS",
      "include_colab_link": true
    },
    "kernelspec": {
      "name": "python3",
      "display_name": "Python 3"
    },
    "language_info": {
      "name": "python"
    }
  },
  "cells": [
    {
      "cell_type": "markdown",
      "metadata": {
        "id": "view-in-github",
        "colab_type": "text"
      },
      "source": [
        "<a href=\"https://colab.research.google.com/github/DAA-PERSONAL/MY/blob/main/vowels.ipynb\" target=\"_parent\"><img src=\"https://colab.research.google.com/assets/colab-badge.svg\" alt=\"Open In Colab\"/></a>"
      ]
    },
    {
      "cell_type": "code",
      "metadata": {
        "colab": {
          "base_uri": "https://localhost:8080/"
        },
        "id": "v166dCkFg40B",
        "outputId": "75944372-c1bb-4c96-d4bc-75b6ef544bac"
      },
      "source": [
        "word=input('Enter your word:')\n",
        "for letter in word:\n",
        "  if letter in 'aeiou':\n",
        "   print(letter,end=\"\")"
      ],
      "execution_count": null,
      "outputs": [
        {
          "output_type": "stream",
          "name": "stdout",
          "text": [
            "Enter your word:education\n",
            "euaio"
          ]
        }
      ]
    }
  ]
}