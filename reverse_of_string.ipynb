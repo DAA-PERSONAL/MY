{
  "nbformat": 4,
  "nbformat_minor": 0,
  "metadata": {
    "colab": {
      "name": "reverse of string",
      "provenance": [],
      "authorship_tag": "ABX9TyPNI4bO3gNdxXYkQs9tBsmX",
      "include_colab_link": true
    },
    "kernelspec": {
      "name": "python3",
      "display_name": "Python 3"
    },
    "language_info": {
      "name": "python"
    }
  },
  "cells": [
    {
      "cell_type": "markdown",
      "metadata": {
        "id": "view-in-github",
        "colab_type": "text"
      },
      "source": [
        "<a href=\"https://colab.research.google.com/github/DAA-PERSONAL/MY/blob/main/reverse_of_string.ipynb\" target=\"_parent\"><img src=\"https://colab.research.google.com/assets/colab-badge.svg\" alt=\"Open In Colab\"/></a>"
      ]
    },
    {
      "cell_type": "code",
      "execution_count": null,
      "metadata": {
        "colab": {
          "base_uri": "https://localhost:8080/"
        },
        "id": "3xyu6i9bdzx1",
        "outputId": "0c048a97-1b5a-470a-ba09-2c9cb6d13c1e"
      },
      "outputs": [
        {
          "output_type": "stream",
          "name": "stdout",
          "text": [
            "engineering of college ilahia\n"
          ]
        }
      ],
      "source": [
        "def rev_sentence(sentence): \n",
        "  \n",
        "    # first split the string into words \n",
        "    words = sentence.split(' ') \n",
        "  \n",
        "    # then reverse the split string list and join using space \n",
        "    reverse_sentence = ' '.join(reversed(words)) \n",
        "  \n",
        "    # finally return the joined string \n",
        "    return reverse_sentence \n",
        "  \n",
        "if __name__ == \"__main__\": \n",
        "    input = 'ilahia college of engineering'\n",
        "    print (rev_sentence(input))"
      ]
    }
  ]
}