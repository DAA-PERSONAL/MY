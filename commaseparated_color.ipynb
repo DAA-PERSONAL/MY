{
  "nbformat": 4,
  "nbformat_minor": 0,
  "metadata": {
    "colab": {
      "name": "commaseparated color",
      "provenance": [],
      "authorship_tag": "ABX9TyNbFaLEN9mzUtgcdV3+eLnR",
      "include_colab_link": true
    },
    "kernelspec": {
      "name": "python3",
      "display_name": "Python 3"
    },
    "language_info": {
      "name": "python"
    }
  },
  "cells": [
    {
      "cell_type": "markdown",
      "metadata": {
        "id": "view-in-github",
        "colab_type": "text"
      },
      "source": [
        "<a href=\"https://colab.research.google.com/github/DAA-PERSONAL/MY/blob/main/commaseparated_color.ipynb\" target=\"_parent\"><img src=\"https://colab.research.google.com/assets/colab-badge.svg\" alt=\"Open In Colab\"/></a>"
      ]
    },
    {
      "cell_type": "code",
      "metadata": {
        "colab": {
          "base_uri": "https://localhost:8080/"
        },
        "id": "-d451Or7ocbj",
        "outputId": "5fbe2fb0-c748-4df3-b991-7e17cd8a173a"
      },
      "source": [
        "color=[\"Red\",\"Green\",\"Orange\",\"Yellow\",\"White\"]\n",
        "print(color[0],color[-1])"
      ],
      "execution_count": null,
      "outputs": [
        {
          "output_type": "stream",
          "name": "stdout",
          "text": [
            "Red White\n"
          ]
        }
      ]
    }
  ]
}