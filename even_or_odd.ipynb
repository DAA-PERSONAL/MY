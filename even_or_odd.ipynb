{
  "nbformat": 4,
  "nbformat_minor": 0,
  "metadata": {
    "colab": {
      "name": "even or odd",
      "provenance": [],
      "collapsed_sections": [],
      "authorship_tag": "ABX9TyOj68DXAca2opubPDpHcG8G",
      "include_colab_link": true
    },
    "kernelspec": {
      "name": "python3",
      "display_name": "Python 3"
    },
    "language_info": {
      "name": "python"
    }
  },
  "cells": [
    {
      "cell_type": "markdown",
      "metadata": {
        "id": "view-in-github",
        "colab_type": "text"
      },
      "source": [
        "<a href=\"https://colab.research.google.com/github/DAA-PERSONAL/MY/blob/main/even_or_odd.ipynb\" target=\"_parent\"><img src=\"https://colab.research.google.com/assets/colab-badge.svg\" alt=\"Open In Colab\"/></a>"
      ]
    },
    {
      "cell_type": "code",
      "metadata": {
        "id": "xIK_AvVtYWv-",
        "colab": {
          "base_uri": "https://localhost:8080/"
        },
        "outputId": "40c14674-57f7-4f77-dc34-4a4337f863a8"
      },
      "source": [
        "\n",
        "a = int(input(\"Enter a number: \"))\n",
        "if (a % 2) == 0:\n",
        "   print(a,\"is Even\")\n",
        "else:\n",
        "   print(a,\"is Odd\")\n"
      ],
      "execution_count": null,
      "outputs": [
        {
          "output_type": "stream",
          "name": "stdout",
          "text": [
            "Enter a number: 122\n",
            "122 is Even\n"
          ]
        }
      ]
    }
  ]
}